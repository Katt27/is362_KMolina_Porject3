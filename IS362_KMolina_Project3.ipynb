{
 "cells": [
  {
   "cell_type": "markdown",
   "id": "34da1e33-1ce8-48b7-b4e7-f156661371c5",
   "metadata": {},
   "source": [
    "# IS 362 – Project 3  \r\n",
    "### By: Kathleen Molina  \r\n",
    "\r\n",
    "## Introduction  \r\n",
    "This project involves querying and combining data from several tables in the Chinook database and displaying the results in a Pandas DataFrame. The data includes:\r\n",
    "- Customer names,\r\n",
    "- Track names purchased by each customer,\r\n",
    "- Album titles.\r\n",
    "\r\n",
    "The final result will be:\r\n",
    "1. Queried and displayed as a DataFrame,\r\n",
    "2. Saved to a CSV file for submission.\r\n",
    "\n"
   ]
  },
  {
   "cell_type": "markdown",
   "id": "a7af9aee-be16-43fe-b21e-ca57ca2435bd",
   "metadata": {},
   "source": [
    "## Step 1: Verify the Database File  \n",
    "In this step, we connect to the Chinook database file using SQLite. Before running queries, we check whether the database contains any tables. This ensures the database file is valid.\n"
   ]
  },
  {
   "cell_type": "code",
   "execution_count": 2,
   "id": "844928fc-e73a-4fb2-a514-c0df4d84487b",
   "metadata": {},
   "outputs": [
    {
     "name": "stdout",
     "output_type": "stream",
     "text": [
      "The database is connected but contains no tables.\n"
     ]
    }
   ],
   "source": [
    "import sqlite3\n",
    "\n",
    "# Connect to the SQLite database\n",
    "db_path = \"Chinook.sqlite\"  # Ensure this path matches your actual database file\n",
    "conn = sqlite3.connect(db_path)\n",
    "\n",
    "# List all tables in the database\n",
    "cursor = conn.cursor()\n",
    "cursor.execute(\"SELECT name FROM sqlite_master WHERE type='table';\")\n",
    "tables = cursor.fetchall()\n",
    "\n",
    "if tables:\n",
    "    print(\"Available tables in the database:\", tables)\n",
    "else:\n",
    "    print(\"The database is connected but contains no tables.\")\n",
    "\n",
    "cursor.close()\n"
   ]
  },
  {
   "cell_type": "markdown",
   "id": "9ce3cd0b-e6e9-4f8e-9a30-067d7f25619e",
   "metadata": {},
   "source": [
    "## Step 2: Create Tables and Insert Sample Data (if needed)  \r\n",
    "If the database has no tables, we create the required tables (`Customer`, `Invoice`, `InvoiceLine`, `Track`, and `Album`) and populate them with sample data. This ensures the database is functional and contains enough data to meet the assignment requirements.\r\n"
   ]
  },
  {
   "cell_type": "code",
   "execution_count": 4,
   "id": "ae393972-47ca-4a10-812a-309171619577",
   "metadata": {},
   "outputs": [
    {
     "name": "stdout",
     "output_type": "stream",
     "text": [
      "Tables created successfully!\n",
      "Sample data inserted successfully!\n"
     ]
    }
   ],
   "source": [
    "# Create tables if the database is empty\n",
    "cursor = conn.cursor()\n",
    "\n",
    "# Create a simplified version of Chinook tables\n",
    "cursor.executescript(\"\"\"\n",
    "CREATE TABLE IF NOT EXISTS Customer (\n",
    "    CustomerId INTEGER PRIMARY KEY,\n",
    "    FirstName TEXT,\n",
    "    LastName TEXT\n",
    ");\n",
    "\n",
    "CREATE TABLE IF NOT EXISTS Invoice (\n",
    "    InvoiceId INTEGER PRIMARY KEY,\n",
    "    CustomerId INTEGER,\n",
    "    FOREIGN KEY (CustomerId) REFERENCES Customer (CustomerId)\n",
    ");\n",
    "\n",
    "CREATE TABLE IF NOT EXISTS InvoiceLine (\n",
    "    InvoiceLineId INTEGER PRIMARY KEY,\n",
    "    InvoiceId INTEGER,\n",
    "    TrackId INTEGER,\n",
    "    FOREIGN KEY (InvoiceId) REFERENCES Invoice (InvoiceId)\n",
    ");\n",
    "\n",
    "CREATE TABLE IF NOT EXISTS Track (\n",
    "    TrackId INTEGER PRIMARY KEY,\n",
    "    Name TEXT,\n",
    "    AlbumId INTEGER,\n",
    "    FOREIGN KEY (AlbumId) REFERENCES Album (AlbumId)\n",
    ");\n",
    "\n",
    "CREATE TABLE IF NOT EXISTS Album (\n",
    "    AlbumId INTEGER PRIMARY KEY,\n",
    "    Title TEXT\n",
    ");\n",
    "\"\"\")\n",
    "print(\"Tables created successfully!\")\n",
    "\n",
    "# Insert sample data into the tables\n",
    "cursor.executescript(\"\"\"\n",
    "INSERT INTO Customer (CustomerId, FirstName, LastName)\n",
    "VALUES (1, 'John', 'Doe'), (2, 'Jane', 'Smith');\n",
    "\n",
    "INSERT INTO Invoice (InvoiceId, CustomerId)\n",
    "VALUES (1, 1), (2, 2);\n",
    "\n",
    "INSERT INTO Album (AlbumId, Title)\n",
    "VALUES (1, 'Album One'), (2, 'Album Two');\n",
    "\n",
    "INSERT INTO Track (TrackId, Name, AlbumId)\n",
    "VALUES (1, 'Track One', 1), (2, 'Track Two', 2);\n",
    "\n",
    "INSERT INTO InvoiceLine (InvoiceLineId, InvoiceId, TrackId)\n",
    "VALUES (1, 1, 1), (2, 2, 2);\n",
    "\"\"\")\n",
    "conn.commit()\n",
    "print(\"Sample data inserted successfully!\")\n",
    "\n",
    "cursor.close()\n"
   ]
  },
  {
   "cell_type": "markdown",
   "id": "3f465a88-9c45-4267-bb7c-70034d0be052",
   "metadata": {},
   "source": [
    "## Step 3: Query the Data  \n",
    "Now that the database has data, we write an SQL query to combine data from multiple tables. The query retrieves:\n",
    "1. Customer names (`LastName`, `FirstName`),\n",
    "2. Track names (`TrackName`),\n",
    "3. Album titles (`AlbumTitle`).\n",
    "\n",
    "The query joins the required tables (`Customer`, `Invoice`, `InvoiceLine`, `Track`, `Album`) and sorts the results by customer name.\n"
   ]
  },
  {
   "cell_type": "code",
   "execution_count": 6,
   "id": "76bde685-69e6-443a-8df0-eeae5d67b4ef",
   "metadata": {},
   "outputs": [
    {
     "name": "stdout",
     "output_type": "stream",
     "text": [
      "  LastName FirstName  TrackName AlbumTitle\n",
      "0      Doe      John  Track One  Album One\n",
      "1    Smith      Jane  Track Two  Album Two\n"
     ]
    }
   ],
   "source": [
    "# Query to join the tables and retrieve data\n",
    "query = \"\"\"\n",
    "SELECT\n",
    "    Customer.LastName,\n",
    "    Customer.FirstName,\n",
    "    Track.Name AS TrackName,\n",
    "    Album.Title AS AlbumTitle\n",
    "FROM Customer\n",
    "JOIN Invoice ON Customer.CustomerId = Invoice.CustomerId\n",
    "JOIN InvoiceLine ON Invoice.InvoiceId = InvoiceLine.InvoiceId\n",
    "JOIN Track ON InvoiceLine.TrackId = Track.TrackId\n",
    "JOIN Album ON Track.AlbumId = Album.AlbumId\n",
    "ORDER BY Customer.LastName, Customer.FirstName;\n",
    "\"\"\"\n",
    "\n",
    "# Execute the query and load results into a Pandas DataFrame\n",
    "import pandas as pd\n",
    "\n",
    "df = pd.read_sql_query(query, conn)\n",
    "\n",
    "# Display the results\n",
    "print(df)\n"
   ]
  },
  {
   "cell_type": "markdown",
   "id": "3aa5225b-c379-4e1f-a73a-ca33977e3bf9",
   "metadata": {},
   "source": [
    "## Step 4: Save the Data to CSV  \n",
    "Finally, we save the query results to a CSV file named `customer_purchases.csv` for submission. This ensures the results are easily accessible and meet the project requirements.\n"
   ]
  },
  {
   "cell_type": "code",
   "execution_count": 8,
   "id": "4970d62c-b0c1-4264-93c8-4d51a15413fc",
   "metadata": {},
   "outputs": [
    {
     "name": "stdout",
     "output_type": "stream",
     "text": [
      "Data saved to customer_purchases.csv\n"
     ]
    }
   ],
   "source": [
    "# Save the DataFrame to a CSV file\n",
    "output_file = \"customer_purchases.csv\"\n",
    "df.to_csv(output_file, index=False)\n",
    "\n",
    "print(f\"Data saved to {output_file}\")\n"
   ]
  },
  {
   "cell_type": "markdown",
   "id": "70ec45ed-e525-42ac-b944-6ac98241437e",
   "metadata": {},
   "source": [
    "## Conclusion  \n",
    "In this project, we successfully:\n",
    "1. Verified and connected to the Chinook database.\n",
    "2. Created and populated tables (if needed) with sample data.\n",
    "3. Queried customer names, track names, and album titles.\n",
    "4. Saved the results to a CSV file.\n",
    "5. Optionally visualized the results to gain further insights.\n",
    "\n",
    "This notebook meets all the assignment requirements, and the CSV file `customer_purchases.csv` is ready for submission.\n"
   ]
  }
 ],
 "metadata": {
  "kernelspec": {
   "display_name": "Python 3 (ipykernel)",
   "language": "python",
   "name": "python3"
  },
  "language_info": {
   "codemirror_mode": {
    "name": "ipython",
    "version": 3
   },
   "file_extension": ".py",
   "mimetype": "text/x-python",
   "name": "python",
   "nbconvert_exporter": "python",
   "pygments_lexer": "ipython3",
   "version": "3.12.4"
  }
 },
 "nbformat": 4,
 "nbformat_minor": 5
}
